{
 "cells": [
  {
   "cell_type": "markdown",
   "metadata": {
    "id": "BNCAebJANPxq"
   },
   "source": [
    "![TheBridge_logo_RGB_color.jpg](attachment:TheBridge_logo_RGB_color.jpg)"
   ]
  },
  {
   "cell_type": "markdown",
   "metadata": {
    "id": "A9eDZvZaNPxs"
   },
   "source": [
    "![imagen](./img/ejercicios.png)"
   ]
  },
  {
   "cell_type": "markdown",
   "metadata": {
    "id": "59zPhBxXNPxs"
   },
   "source": [
    "## PRACTICA OBLIGATORIA: PYTHON"
   ]
  },
  {
   "cell_type": "markdown",
   "metadata": {
    "id": "mv2kb1GMNPxs"
   },
   "source": [
    "* La práctica obligatoria de esta unidad consiste en dos ejercicios de programación libre a completar.   \n",
    "* Recuerda que debes subirla a tu repositorio personal antes de la sesión en vivo para que puntúe adecuadamente.  \n",
    "* Recuerda también que no es necesario que esté perfecta, sólo es necesario que se vea el esfuerzo.\n",
    "* Esta práctica se resolverá en la sesión en vivo correspondiente y la solución se publicará en el repo del curso."
   ]
  },
  {
   "cell_type": "markdown",
   "metadata": {
    "id": "Kl9JzST2NPxt"
   },
   "source": [
    "![ejercicio.png](./img/ejercicio.png)\n",
    "## PARTE I\n",
    "\n",
    "En este ejercicio debes simular un chatbot al que le haremos pedidos de pizzas.\n",
    "\n",
    "1. El chatbot tiene que saludar con un: \"Buenas tardes, bienvenido al servicio de pedido online, el precio de nuestra pizzas es de 8,95 para la familiar o de 9,90 para la mediana ¿Cuántas pizzas  familiares desea?\"\n",
    "2. El ususario tiene que introducir un número de pizzas en una variable llamada 'pizz_familiar'\n",
    "3. El chatbot debe responder: \"Estupendo, ¿cuántas pizzas medianas desea?\" y guardar el número de pizzas medianas en otra variable 'pizz_mediana'\n",
    "4. Además debe responder del chatbot: \"Estupendo, se están preparando 'pizz' pizzas familiares y 'pizz_mediana' pizzas medianas. Digame su dirección\"\n",
    "5. El ususario tiene que introducir una direccion en formato String en otra variable llamada 'direcc'\n",
    "6. El programa debe calcular el monto total\n",
    "7. Respuesta final del chatbot: \"Le mandaremos las '(número total de pizzas)' pizzas a la dirección 'direcc'. Serán <precio total a pagar en euros>. Muchas gracias por su pedido.\"\n",
    "         \n"
   ]
  },
  {
   "cell_type": "code",
   "execution_count": 7,
   "metadata": {
    "id": "qkKibyt-NPxt"
   },
   "outputs": [
    {
     "name": "stdout",
     "output_type": "stream",
     "text": [
      "Buenas tardes, bienvenido al servicio de pedido online\n",
      "El precio de nuestras pizzas es de 9,90 para la familiar o de 8,95 para la mediana\n"
     ]
    },
    {
     "name": "stdin",
     "output_type": "stream",
     "text": [
      "¿Cuantas pizzas familiares deseas? 55\n"
     ]
    },
    {
     "name": "stdout",
     "output_type": "stream",
     "text": [
      "Estupendo, ¿cuántas pizzas medianas deseas?\n"
     ]
    },
    {
     "name": "stdin",
     "output_type": "stream",
     "text": [
      " 78\n"
     ]
    },
    {
     "name": "stdout",
     "output_type": "stream",
     "text": [
      "Estupendo, se estan preparando55pizzas familiares y78pizzas medianas.\n"
     ]
    },
    {
     "name": "stdin",
     "output_type": "stream",
     "text": [
      "Dígame su dirección:  calle falsa numero interrogante\n"
     ]
    },
    {
     "name": "stdout",
     "output_type": "stream",
     "text": [
      "Le mandamos las 80 pizzas a la direccion calle falsa numero interrogante. Serán 768.25€. Muchas gracias por su pedido.\n"
     ]
    }
   ],
   "source": [
    "print(\"Buenas tardes, bienvenido al servicio de pedido online\")\n",
    "print(\"El precio de nuestras pizzas es de 9,90 para la familiar o de 8,95 para la mediana\")\n",
    "\n",
    "pizz_familiar = int(input(\"¿Cuantas pizzas familiares deseas?\"))\n",
    "\n",
    "print(\"Estupendo, ¿cuántas pizzas medianas deseas?\")\n",
    "pizz_medianas = int(input())\n",
    "\n",
    "total_pizzas = pizz_familiar + pizz_mediana\n",
    "print(\"Estupendo, se estan preparando\" + str(pizz_familiar) + \"pizzas familiares y\" + str(pizz_medianas) + \"pizzas medianas.\")\n",
    "\n",
    "direcc = input(\"Dígame su dirección: \")\n",
    "\n",
    "precio_familiar = 9.90\n",
    "precio_mediana = 8.95\n",
    "total_precio = (pizz_familiar * precio_familiar) + (pizz_mediana * precio_mediana)\n",
    "\n",
    "print(\"Le mandamos las \" + str(total_pizzas) + \" pizzas a la direccion \" + direcc + \". Serán {:.2f}€. Muchas gracias por su pedido.\".format(total_precio))"
   ]
  },
  {
   "cell_type": "markdown",
   "metadata": {
    "id": "f0oqoGDGNPxt"
   },
   "source": [
    "![ejercicio.png](./img/ejercicio.png)\n",
    "## Parte II\n",
    "\n",
    "Crea un programa que realice las siguientes acciones:\n",
    "\n",
    "1. Solicite al usuario que introduzca 3 números enteros separados por comas (por ejemplo: 1,2,3).\n",
    "2. Convierta esa entrada en una lista de números enteros.\n",
    "3. Utilizando funciones built-in, determine el número máximo, el número mínimo y la suma total de los números introducidos.\n",
    "4. Determine la verdad o falsedad de la siguiente afirmación: \"El número máximo menos el número mínimo es igual a la suma total dividida por 5\".\n",
    "5. Muestre los resultados utilizando print."
   ]
  },
  {
   "cell_type": "code",
   "execution_count": 10,
   "metadata": {
    "id": "rAlpWiQ9NPxt"
   },
   "outputs": [
    {
     "name": "stdin",
     "output_type": "stream",
     "text": [
      "Introduce 3 numero enteros separados por comas:  10, 2, 28\n"
     ]
    },
    {
     "name": "stdout",
     "output_type": "stream",
     "text": [
      "El numero maximo es: 28\n",
      "El numero minimo es: 2\n",
      "La suma total es: 40\n",
      "¿El numero maximo menos el numero minimo es igual a la suma total dividida por 5?False\n"
     ]
    }
   ],
   "source": [
    "entrada = input(\"Introduce 3 numero enteros separados por comas: \")\n",
    "\n",
    "numeros = entrada.split(\",\")\n",
    "numeros = [int(num) for num in numeros]\n",
    "\n",
    "maximo = max(numeros)\n",
    "minimo = min(numeros)\n",
    "suma_total = sum(numeros)\n",
    "\n",
    "resultado = (maximo - minimo) == (suma_total / 5)\n",
    "\n",
    "print(\"El numero maximo es: \" + str(maximo))\n",
    "print(\"El numero minimo es: \" + str(minimo))\n",
    "print(\"La suma total es: \" + str(suma_total))\n",
    "print(\"¿El numero maximo menos el numero minimo es igual a la suma total dividida por 5?\" + str(resultado))"
   ]
  },
  {
   "cell_type": "code",
   "execution_count": null,
   "metadata": {},
   "outputs": [],
   "source": []
  }
 ],
 "metadata": {
  "colab": {
   "provenance": []
  },
  "kernelspec": {
   "display_name": "Python 3 (ipykernel)",
   "language": "python",
   "name": "python3"
  },
  "language_info": {
   "codemirror_mode": {
    "name": "ipython",
    "version": 3
   },
   "file_extension": ".py",
   "mimetype": "text/x-python",
   "name": "python",
   "nbconvert_exporter": "python",
   "pygments_lexer": "ipython3",
   "version": "3.13.2"
  }
 },
 "nbformat": 4,
 "nbformat_minor": 4
}
