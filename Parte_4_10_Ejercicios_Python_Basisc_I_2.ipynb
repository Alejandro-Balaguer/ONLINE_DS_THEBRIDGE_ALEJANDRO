{
 "cells": [
  {
   "cell_type": "markdown",
   "metadata": {
    "id": "GB2K42EgK9q5"
   },
   "source": [
    "![TheBridge_logo_RGB_color.jpg](attachment:TheBridge_logo_RGB_color.jpg)"
   ]
  },
  {
   "cell_type": "markdown",
   "metadata": {
    "id": "GnwVlO37K9q6"
   },
   "source": [
    "![imagen](./img/ejercicios.png)"
   ]
  },
  {
   "cell_type": "markdown",
   "metadata": {
    "id": "_9pTa0PXK9q6"
   },
   "source": [
    "## EJERCICIOS PYTHON BASICO 2:\n",
    "## Tipos y conversión de tipos"
   ]
  },
  {
   "cell_type": "markdown",
   "metadata": {
    "id": "tYmV-veoK9q6"
   },
   "source": [
    "Completa los siguiente ejercicios, la solución a los mismos se publicarán en el repo del curso a lo largo del sprint"
   ]
  },
  {
   "cell_type": "markdown",
   "metadata": {
    "id": "YAdFbIOXK9q7"
   },
   "source": [
    "![ejercicio.png](./img/ejercicio.png)\n",
    "\n",
    "## Ejercicio 1\n",
    "\n",
    "1. Crea dos variables numericas: un `int` y un `float`\n",
    "2. Comprueba sus tipos\n",
    "3. Sumalas en otra nueva\n",
    "4. ¿De qué tipo es la nueva variable?\n",
    "5. Elimina las dos primeras variables creadas"
   ]
  },
  {
   "cell_type": "code",
   "execution_count": 2,
   "metadata": {
    "id": "8QZmuLOsK9q7"
   },
   "outputs": [
    {
     "name": "stdout",
     "output_type": "stream",
     "text": [
      "<class 'int'>\n",
      "<class 'float'>\n",
      "<class 'float'>\n"
     ]
    }
   ],
   "source": [
    "num_int = 10\n",
    "num_float = 5.5\n",
    "\n",
    "print(type(num_int))\n",
    "print(type(num_float))\n",
    "\n",
    "resultado = num_int + num_float\n",
    "\n",
    "print(type(resultado))\n",
    "\n",
    "del num_int, num_float\n"
   ]
  },
  {
   "cell_type": "markdown",
   "metadata": {
    "id": "f5xfpkpQK9q7"
   },
   "source": [
    "![ejercicio.png](./img/ejercicio.png)\n",
    "\n",
    "## Ejercicio 2\n",
    "Escribe un programa para pasar de grados a radianes. Hay que usar `input`. Recuerda que la conversión se realiza mediante\n",
    "\n",
    "radianes = grados*(pi/180)"
   ]
  },
  {
   "cell_type": "code",
   "execution_count": 6,
   "metadata": {
    "id": "V50TUQMzK9q7"
   },
   "outputs": [
    {
     "name": "stdin",
     "output_type": "stream",
     "text": [
      "Introduce los grados: 25\n"
     ]
    },
    {
     "name": "stdout",
     "output_type": "stream",
     "text": [
      "25.0 grados son 0.4363 radiantes\n"
     ]
    }
   ],
   "source": [
    "import math\n",
    "\n",
    "grados = float(input(\"Introduce los grados:\"))\n",
    "radiantes = grados * (math.pi / 180)\n",
    "\n",
    "print(str(grados) + \" grados son \" + str(round(radiantes, 4)) + \" radiantes\")"
   ]
  },
  {
   "cell_type": "markdown",
   "metadata": {
    "id": "zX3-p58CK9q7"
   },
   "source": [
    "![ejercicio.png](./img/ejercicio.png)\n",
    "\n",
    "## Ejercicio 3\n",
    "Escribe un programa que calcule el area de un paralelogramo (base x altura). También con `input`"
   ]
  },
  {
   "cell_type": "code",
   "execution_count": 9,
   "metadata": {
    "id": "s2QfNiBAK9q7"
   },
   "outputs": [
    {
     "name": "stdin",
     "output_type": "stream",
     "text": [
      "Indroduce la base del paralelogramo: 10\n",
      "Introduce la altura del paralelogramo: 5\n"
     ]
    },
    {
     "name": "stdout",
     "output_type": "stream",
     "text": [
      "El area del paralelogramo es 50.0\n"
     ]
    }
   ],
   "source": [
    "base = float(input(\"Indroduce la base del paralelogramo:\"))\n",
    "altura = float(input(\"Introduce la altura del paralelogramo:\"))\n",
    "\n",
    "area = base * altura\n",
    "\n",
    "print(\"El area del paralelogramo es \" + str(area))"
   ]
  },
  {
   "cell_type": "markdown",
   "metadata": {
    "id": "-6TBo_HvK9q8"
   },
   "source": [
    "![ejercicio.png](./img/ejercicio.png)\n",
    "\n",
    "## Ejercicio 4\n",
    "Escribe un programa que calcule el area de un paralelogramo (base x altura). También con `input`. En este caso debe ser capaz de admitir valores reales, con decimales, para base y altura en español. (PISTA: Recuerda que tendrás que hacer uso del método replace)"
   ]
  },
  {
   "cell_type": "code",
   "execution_count": 20,
   "metadata": {
    "id": "uzUIa1JqK9q8"
   },
   "outputs": [
    {
     "name": "stdin",
     "output_type": "stream",
     "text": [
      "Indroduce la base del paralelogramo: 8,5\n",
      "Introduce la altura del paralelogramo: 4,25\n"
     ]
    },
    {
     "name": "stdout",
     "output_type": "stream",
     "text": [
      "El area del paralelogramo es 36.125\n"
     ]
    }
   ],
   "source": [
    "base = input(\"Indroduce la base del paralelogramo:\").replace(\",\",\".\")\n",
    "altura = input(\"Introduce la altura del paralelogramo:\").replace(\",\",\".\")\n",
    "\n",
    "base = float(base)\n",
    "altura = float(altura)\n",
    "\n",
    "area = base * altura\n",
    "\n",
    "print(\"El area del paralelogramo es \" + str(area))"
   ]
  },
  {
   "cell_type": "markdown",
   "metadata": {
    "id": "5zKugi5iK9q8"
   },
   "source": [
    "![ejercicio.png](./img/ejercicio.png)\n",
    "\n",
    "## Ejercicio 5\n",
    "Complete el siguiente código para solicitar al usuario su nombre y su edad. Luego, calcule en qué año nació el usuario y muestre el resultado."
   ]
  },
  {
   "cell_type": "code",
   "execution_count": 21,
   "metadata": {
    "id": "LISfTnRkK9q8"
   },
   "outputs": [
    {
     "name": "stdin",
     "output_type": "stream",
     "text": [
      "¿Cuál es tu nombre?  Alejandro\n",
      "¿Cuál es tu edad?  31\n"
     ]
    },
    {
     "name": "stdout",
     "output_type": "stream",
     "text": [
      "Alejandro, naciste en el año 1994.\n"
     ]
    }
   ],
   "source": [
    "nombre = input(\"¿Cuál es tu nombre? \")\n",
    "edad = int(input(\"¿Cuál es tu edad? \"))\n",
    "año_actual = 2025 \n",
    "año_nacimiento = año_actual - edad\n",
    "\n",
    "print(f\"{nombre}, naciste en el año {año_nacimiento}.\")\n"
   ]
  },
  {
   "cell_type": "code",
   "execution_count": null,
   "metadata": {},
   "outputs": [],
   "source": []
  }
 ],
 "metadata": {
  "colab": {
   "provenance": []
  },
  "kernelspec": {
   "display_name": "Python 3 (ipykernel)",
   "language": "python",
   "name": "python3"
  },
  "language_info": {
   "codemirror_mode": {
    "name": "ipython",
    "version": 3
   },
   "file_extension": ".py",
   "mimetype": "text/x-python",
   "name": "python",
   "nbconvert_exporter": "python",
   "pygments_lexer": "ipython3",
   "version": "3.13.2"
  }
 },
 "nbformat": 4,
 "nbformat_minor": 4
}
