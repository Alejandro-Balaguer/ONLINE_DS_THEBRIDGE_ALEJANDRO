{
 "cells": [
  {
   "cell_type": "markdown",
   "metadata": {
    "id": "9l3HMgm6RWxF"
   },
   "source": [
    "![TheBridge_logo_RGB_color.jpg](attachment:TheBridge_logo_RGB_color.jpg)"
   ]
  },
  {
   "cell_type": "markdown",
   "metadata": {
    "id": "RGg9iWpoRWxG"
   },
   "source": [
    "![ejercicios.png](attachment:ejercicios.png)"
   ]
  },
  {
   "cell_type": "markdown",
   "metadata": {
    "id": "AyOlWS2nRWxH"
   },
   "source": [
    "## PRACTICA OBLIGATORIA: COLECCIONES Y FUNCIONES"
   ]
  },
  {
   "cell_type": "markdown",
   "metadata": {
    "id": "6UOgb0KVRWxH"
   },
   "source": [
    "* La práctica obligatoria de esta unidad consiste varios ejercicios de programación libre a completar sobre Colecciones y Funciones. Descarga este notebook en tu ordenador y trabaja en local.  \n",
    "* Recuerda que debes subirla a tu repositorio personal antes de la sesión en vivo para que puntúe adecuadamente y puedas participar en dicha sesión.  \n",
    "* Recuerda también que no es necesario que esté perfecta, sólo es necesario que se vea el esfuerzo.\n",
    "* Esta práctica se resolverá en la sesión en vivo correspondiente y la solución se publicará en el repo del curso."
   ]
  },
  {
   "cell_type": "markdown",
   "metadata": {
    "id": "j3yu-tEjRWxH"
   },
   "source": [
    "### Contenidos"
   ]
  },
  {
   "cell_type": "markdown",
   "metadata": {
    "id": "kO-fLH39RWxH"
   },
   "source": [
    "## Ejercicio 1\n",
    "Eleva todos los elementos de la lista al cuadrado\n",
    "> ```ejer_2 = [1,2,3,4,5]```"
   ]
  },
  {
   "cell_type": "code",
   "execution_count": 1,
   "metadata": {
    "id": "ks5l3yi7RWxH"
   },
   "outputs": [
    {
     "name": "stdout",
     "output_type": "stream",
     "text": [
      "[1, 4, 9, 16, 25]\n"
     ]
    }
   ],
   "source": [
    "ejer_2 = [1,2,3,4,5]\n",
    "resultado = [x** 2 for x in ejer_2]\n",
    "print(resultado)"
   ]
  },
  {
   "cell_type": "markdown",
   "metadata": {
    "id": "kI_Xr5oFRWxI"
   },
   "source": [
    "## Ejercicio 2\n",
    "Haz un programa que detecte todos los duplicados de un elemento en una lista:\n",
    "* Utiliza una variable duplicado para asignarle el valor del elemento del que queremos encontrar todos sus duplicados.\n",
    "* El programa debe devolver todos los índices de los elementos duplicados.\n",
    "* Aplícalo para encontrar los duplicados de \"un\", \"es\" y \"binario\" de:  \n",
    "\n",
    ">```ejer_3 = [\"Un\", \"árbol\", \"binario\", \"es\", \"una\", \"estructura\", \"de\", \"un\", \"tipo\", \"particular\", \"a\", \"veces\", \"no\", \"es\", \"ni\", \"binario\"]```\n"
   ]
  },
  {
   "cell_type": "code",
   "execution_count": 6,
   "metadata": {
    "id": "cLY9WB7YRWxI"
   },
   "outputs": [
    {
     "name": "stdout",
     "output_type": "stream",
     "text": [
      "indices de 'un': [0, 7]\n",
      "indices de 'es': [3, 13]\n",
      "indices de 'binario': [2, 15]\n"
     ]
    }
   ],
   "source": [
    "ejer_3 = [\"Un\", \"árbol\", \"binario\", \"es\", \"una\", \"estructura\", \"de\", \"un\", \"tipo\", \"particular\", \"a\", \"veces\", \"no\", \"es\", \"ni\", \"binario\"]\n",
    "\n",
    "def encontrar_duplicados(lista, duplicado):\n",
    "   return [i for i, elemento in enumerate(lista) if elemento.lower() == duplicado.lower()]\n",
    "\n",
    "elemento_a_buscar = [\"un\", \"es\", \"binario\"]\n",
    "\n",
    "for elemento in elemento_a_buscar:\n",
    "    indices = encontrar_duplicados(ejer_3, elemento)\n",
    "    print(f\"indices de '{elemento}': {indices}\")"
   ]
  },
  {
   "cell_type": "markdown",
   "metadata": {
    "id": "3WrBd5QaRWxI"
   },
   "source": [
    "## Ejercicio 3\n",
    "1. ¿Cuántas veces se repite el 3 en la siguiente tupla?\n",
    "2. Crea una tupla nueva con los elementos desde la posicion 5 a la 10.\n",
    "3. ¿Cuántos elementos tiene la tupla `ejer_3`?\n",
    "> ```ejer_9 = (3, 20, 3, 47, 19, 3, 29, 45, 67, 78, 90, 3, 3, 5, 2, 4, 7, 9, 4, 2, 4, 3, 3, 4, 6, 7)```"
   ]
  },
  {
   "cell_type": "code",
   "execution_count": 10,
   "metadata": {
    "id": "bkv_R5LYRWxI"
   },
   "outputs": [
    {
     "name": "stdout",
     "output_type": "stream",
     "text": [
      "El numero 3 se repite 7 veces\n",
      "La nueva tupla es: (3, 29, 45, 67, 78, 90)\n",
      "Total de elementos entre ambas tuplas: 32\n"
     ]
    }
   ],
   "source": [
    "ejer_9 = (3, 20, 3, 47, 19, 3, 29, 45, 67, 78, 90, 3, 3, 5, 2, 4, 7, 9, 4, 2, 4, 3, 3, 4, 6, 7)\n",
    "\n",
    "cantidad_3 =ejer_9.count(3)\n",
    "print(\"El numero 3 se repite\", cantidad_3, \"veces\")\n",
    "\n",
    "nueva_tupla = ejer_9[5:11]\n",
    "print(\"La nueva tupla es:\", nueva_tupla)\n",
    "\n",
    "total_elementos = len(ejer_9) + len(nueva_tupla)\n",
    "print(\"Total de elementos entre ambas tuplas:\", total_elementos)"
   ]
  },
  {
   "cell_type": "markdown",
   "metadata": {
    "id": "6g8Y54AeRWxI"
   },
   "source": [
    "## Ejercicio 4\n",
    "Comprueba si el numero 60 esta en la tupla del ejercicio 3"
   ]
  },
  {
   "cell_type": "code",
   "execution_count": 11,
   "metadata": {
    "id": "F8VTEZonRWxI"
   },
   "outputs": [
    {
     "name": "stdout",
     "output_type": "stream",
     "text": [
      "El numero 60 no se encuentra en la tupla\n"
     ]
    }
   ],
   "source": [
    "ejer_9 = (3, 20, 3, 47, 19, 3, 29, 45, 67, 78, 90, 3, 3, 5, 2, 4, 7, 9, 4, 2, 4, 3, 3, 4, 6, 7)\n",
    "\n",
    "if 60 in ejer_9:\n",
    "    print(\"El numero 60 se encuentra en la tupla\")\n",
    "else:\n",
    "    print(\"El numero 60 no se encuentra en la tupla\")"
   ]
  },
  {
   "cell_type": "markdown",
   "metadata": {
    "id": "y0fg-ZA6RWxI"
   },
   "source": [
    "## Ejercicio 5\n",
    "1. Convierte la tupla del ejercicio 3 en una lista\n",
    "2. Convierte la tupla del ejercicio 3 en un set\n",
    "3. Convierte la tupla del ejercicio 3 en un diccionario. Usa también los indices"
   ]
  },
  {
   "cell_type": "code",
   "execution_count": 13,
   "metadata": {
    "id": "_O5hXr01RWxI"
   },
   "outputs": [
    {
     "name": "stdout",
     "output_type": "stream",
     "text": [
      "lista: [3, 20, 3, 47, 19, 3, 29, 45, 67, 78, 90, 3, 3, 5, 2, 4, 7, 9, 4, 2, 4, 3, 3, 4, 6, 7]\n",
      "Set: {2, 3, 67, 5, 4, 7, 6, 9, 45, 78, 47, 19, 20, 90, 29}\n",
      "diccionario: {0: 3, 1: 20, 2: 3, 3: 47, 4: 19, 5: 3, 6: 29, 7: 45, 8: 67, 9: 78, 10: 90, 11: 3, 12: 3, 13: 5, 14: 2, 15: 4, 16: 7, 17: 9, 18: 4, 19: 2, 20: 4, 21: 3, 22: 3, 23: 4, 24: 6, 25: 7}\n"
     ]
    }
   ],
   "source": [
    "ejer_9 = (3, 20, 3, 47, 19, 3, 29, 45, 67, 78, 90, 3, 3, 5, 2, 4, 7, 9, 4, 2, 4, 3, 3, 4, 6, 7)\n",
    "\n",
    "lista_ejer9 = list(ejer_9)\n",
    "print(\"lista:\", lista_ejer9)\n",
    "\n",
    "set_ejer9 = set(ejer_9)\n",
    "print(\"Set:\", set_ejer9)\n",
    "\n",
    "diccionario_ejer9 = {indice: valor for indice, valor in enumerate(ejer_9)}\n",
    "print(\"diccionario:\", diccionario_ejer9)"
   ]
  },
  {
   "cell_type": "markdown",
   "metadata": {
    "id": "eOdWWbxvRWxJ"
   },
   "source": [
    "## Ejercicio 6\n",
    "Multiplica todos los valores del diccionario\n",
    "> ```ejer_6 = {1: 11, 2: 22, 3: 33, 4: 44, 5: 55}```"
   ]
  },
  {
   "cell_type": "code",
   "execution_count": 14,
   "metadata": {
    "id": "KcuByovKRWxJ"
   },
   "outputs": [
    {
     "name": "stdout",
     "output_type": "stream",
     "text": [
      "El resultado de multiplicar todos los valores es: 19326120\n"
     ]
    }
   ],
   "source": [
    "ejer_6 = {1: 11, 2: 22, 3: 33, 4: 44, 5: 55}\n",
    "\n",
    "resultado = 1\n",
    "for valor in ejer_6.values():\n",
    "    resultado *= valor\n",
    "\n",
    "print(\"El resultado de multiplicar todos los valores es:\", resultado)"
   ]
  },
  {
   "cell_type": "markdown",
   "metadata": {
    "id": "W7TUSaKRRWxJ"
   },
   "source": [
    "## Ejercicio 7\n",
    "\n",
    "1. Crea un diccionario que describa un libro, con los siguientes campos o claves: \"titulo\",\"autor\",\"idioma original\",\"año de publicación\".\n",
    "2. Crea un a lista, llamada librería.\n",
    "3. Añade cuatro libros a tu elección a la librería."
   ]
  },
  {
   "cell_type": "code",
   "execution_count": 15,
   "metadata": {
    "id": "d-IMRvxRRWxJ",
    "vscode": {
     "languageId": "plaintext"
    }
   },
   "outputs": [
    {
     "name": "stdout",
     "output_type": "stream",
     "text": [
      "{'titulo': 'The Crystal Shard', 'autor': 'R.A. Salvatore', 'idioma original': 'Inglés', 'año de publicación': 1988}\n",
      "{'titulo': 'Streams of Silver', 'autor': 'R.A. Salvatore', 'idioma original': 'Inglés', 'año de publicación': 1989}\n",
      "{'titulo': \"The Halfling's Gem\", 'autor': 'R.A. Salvatore', 'idioma original': 'Inglés', 'año de publicación': 1990}\n",
      "{'titulo': 'Homeland', 'autor': 'R.A. Salvatore', 'idioma original': 'Inglés', 'año de publicación': 1990}\n"
     ]
    }
   ],
   "source": [
    "libro1 = {\n",
    "    \"titulo\": \"The Crystal Shard\",\n",
    "    \"autor\": \"R.A. Salvatore\",\n",
    "    \"idioma original\": \"Inglés\",\n",
    "    \"año de publicación\": 1988\n",
    "}\n",
    "\n",
    "libro2 = {\n",
    "    \"titulo\": \"Streams of Silver\",\n",
    "    \"autor\": \"R.A. Salvatore\",\n",
    "    \"idioma original\": \"Inglés\",\n",
    "    \"año de publicación\": 1989\n",
    "}\n",
    "\n",
    "libro3 = {\n",
    "    \"titulo\": \"The Halfling's Gem\",\n",
    "    \"autor\": \"R.A. Salvatore\",\n",
    "    \"idioma original\": \"Inglés\",\n",
    "    \"año de publicación\": 1990\n",
    "}\n",
    "\n",
    "libro4 = {\n",
    "    \"titulo\": \"Homeland\",\n",
    "    \"autor\": \"R.A. Salvatore\",\n",
    "    \"idioma original\": \"Inglés\",\n",
    "    \"año de publicación\": 1990\n",
    "}\n",
    "\n",
    "libreria = [libro1, libro2, libro3, libro4]\n",
    "\n",
    "for libro in libreria:\n",
    "    print(libro)\n"
   ]
  },
  {
   "cell_type": "markdown",
   "metadata": {
    "id": "glMoedjYRWxJ"
   },
   "source": [
    "## Ejercicio 8\n",
    "Modifica los valores del idioma de todos los libros del ejercicio anterior para que sea \"esperanto\"\n"
   ]
  },
  {
   "cell_type": "code",
   "execution_count": 16,
   "metadata": {
    "id": "veNdC-uwRWxJ"
   },
   "outputs": [
    {
     "name": "stdout",
     "output_type": "stream",
     "text": [
      "{'titulo': 'The Crystal Shard', 'autor': 'R.A. Salvatore', 'idioma original': 'esperanto', 'año de publicación': 1988}\n",
      "{'titulo': 'Streams of Silver', 'autor': 'R.A. Salvatore', 'idioma original': 'esperanto', 'año de publicación': 1989}\n",
      "{'titulo': \"The Halfling's Gem\", 'autor': 'R.A. Salvatore', 'idioma original': 'esperanto', 'año de publicación': 1990}\n",
      "{'titulo': 'Homeland', 'autor': 'R.A. Salvatore', 'idioma original': 'esperanto', 'año de publicación': 1990}\n"
     ]
    }
   ],
   "source": [
    "libreria = [\n",
    "    {\n",
    "        \"titulo\": \"The Crystal Shard\",\n",
    "        \"autor\": \"R.A. Salvatore\",\n",
    "        \"idioma original\": \"Inglés\",\n",
    "        \"año de publicación\": 1988\n",
    "    },\n",
    "    {\n",
    "        \"titulo\": \"Streams of Silver\",\n",
    "        \"autor\": \"R.A. Salvatore\",\n",
    "        \"idioma original\": \"Inglés\",\n",
    "        \"año de publicación\": 1989\n",
    "    },\n",
    "    {\n",
    "        \"titulo\": \"The Halfling's Gem\",\n",
    "        \"autor\": \"R.A. Salvatore\",\n",
    "        \"idioma original\": \"Inglés\",\n",
    "        \"año de publicación\": 1990\n",
    "    },\n",
    "    {\n",
    "        \"titulo\": \"Homeland\",\n",
    "        \"autor\": \"R.A. Salvatore\",\n",
    "        \"idioma original\": \"Inglés\",\n",
    "        \"año de publicación\": 1990\n",
    "    }\n",
    "]\n",
    "\n",
    "\n",
    "for libro in libreria:\n",
    "    libro[\"idioma original\"] = \"esperanto\"\n",
    "\n",
    "for libro in libreria:\n",
    "    print(libro)\n"
   ]
  },
  {
   "cell_type": "markdown",
   "metadata": {
    "id": "DRCJG04KRWxJ"
   },
   "source": [
    "## Ejercicio 9\n",
    "1. Escribe un programa que dada una variable titulo busque los libros que hay en la librería con ese título. Si no se encuentra debe devolver el mensaje `Ese no lo tengo, ¿mola?`\n",
    "2. Pruena que el programa con uno de tus libros y con otro que no contenga tu librería."
   ]
  },
  {
   "cell_type": "code",
   "execution_count": 22,
   "metadata": {
    "id": "eWHdJi9BRWxJ"
   },
   "outputs": [
    {
     "name": "stdout",
     "output_type": "stream",
     "text": [
      "Buscando 'The Crystal Shard':\n",
      "Libros encontrados:\n",
      "{'titulo': 'The Crystal Shard', 'autor': 'R.A. Salvatore', 'idioma original': 'esperanto', 'año de publicación': 1988}\n",
      "\n",
      "Buscando 'El Hobbit':\n",
      "Ese no lo tengo, ¿mola?\n"
     ]
    }
   ],
   "source": [
    "libreria = [\n",
    "    {\n",
    "        \"titulo\": \"The Crystal Shard\",\n",
    "        \"autor\": \"R.A. Salvatore\",\n",
    "        \"idioma original\": \"esperanto\",\n",
    "        \"año de publicación\": 1988\n",
    "    },\n",
    "    {\n",
    "        \"titulo\": \"Streams of Silver\",\n",
    "        \"autor\": \"R.A. Salvatore\",\n",
    "        \"idioma original\": \"esperanto\",\n",
    "        \"año de publicación\": 1989\n",
    "    },\n",
    "    {\n",
    "        \"titulo\": \"The Halfling's Gem\",\n",
    "        \"autor\": \"R.A. Salvatore\",\n",
    "        \"idioma original\": \"esperanto\",\n",
    "        \"año de publicación\": 1990\n",
    "    },\n",
    "    {\n",
    "        \"titulo\": \"Homeland\",\n",
    "        \"autor\": \"R.A. Salvatore\",\n",
    "        \"idioma original\": \"esperanto\",\n",
    "        \"año de publicación\": 1990\n",
    "    }\n",
    "]\n",
    "\n",
    "def buscar_libro_por_titulo(titulo):\n",
    "   \n",
    "    encontrados = [libro for libro in libreria if libro[\"titulo\"].lower() == titulo.lower()]\n",
    "    \n",
    "    if encontrados:\n",
    "        print(\"Libros encontrados:\")\n",
    "        for libro in encontrados:\n",
    "            print(libro)\n",
    "    else:\n",
    "        print(\"Ese no lo tengo, ¿mola?\")\n",
    "\n",
    "\n",
    "print(\"Buscando 'The Crystal Shard':\")\n",
    "buscar_libro_por_titulo(\"The Crystal Shard\")\n",
    "\n",
    "\n",
    "print(\"\\nBuscando 'El Hobbit':\")\n",
    "buscar_libro_por_titulo(\"El Hobbit\")\n"
   ]
  },
  {
   "cell_type": "markdown",
   "metadata": {
    "id": "17YOpYuFRWxJ"
   },
   "source": [
    "## Ejercicio 10\n",
    "Convierte el programa del ejercicio 2 en una función al que se le pase el valor a buscar como un argumento posicional"
   ]
  },
  {
   "cell_type": "code",
   "execution_count": 23,
   "metadata": {
    "id": "xbj0LgvnRWxJ"
   },
   "outputs": [
    {
     "name": "stdout",
     "output_type": "stream",
     "text": [
      "indices de 'un': [0, 7]\n",
      "indices de 'es': [3, 13]\n",
      "indices de 'binario': [2, 15]\n",
      "indices de 'noexistente': []\n"
     ]
    }
   ],
   "source": [
    "def buscar_en_ejer3(valor):\n",
    "    \n",
    "    ejer_3 = [\"Un\", \"árbol\", \"binario\", \"es\", \"una\", \"estructura\", \"de\", \"un\", \"tipo\", \"particular\", \"a\", \"veces\", \"no\", \"es\", \"ni\", \"binario\"]\n",
    "    indices = [i for i, elemento in enumerate(ejer_3) if elemento.lower() == valor.lower()]\n",
    "    print(f\"indices de '{valor}': {indices}\")\n",
    "\n",
    "buscar_en_ejer3(\"un\")\n",
    "buscar_en_ejer3(\"es\")\n",
    "buscar_en_ejer3(\"binario\")\n",
    "buscar_en_ejer3(\"noexistente\")\n"
   ]
  },
  {
   "cell_type": "markdown",
   "metadata": {
    "id": "xZ-sWJxPRWxJ"
   },
   "source": [
    "## Ejercicio 11\n",
    "Convierte el programa del ejercicio 9 en una función al que se le pasen como argumentos la librería, posicional, y el título, argumento keyword con valor \"ninguno\", por defecto."
   ]
  },
  {
   "cell_type": "code",
   "execution_count": 25,
   "metadata": {
    "id": "4-JrsMdNRWxK"
   },
   "outputs": [
    {
     "name": "stdout",
     "output_type": "stream",
     "text": [
      "Buscando 'The Crystal Shard':\n",
      "Libros encontrados:\n",
      "{'titulo': 'The Crystal Shard', 'autor': 'R.A. Salvatore', 'idioma original': 'esperanto', 'año de publicación': 1988}\n",
      "\n",
      "Buscando 'El Hobbit':\n",
      "Ese no lo tengo, ¿mola?\n",
      "\n",
      "Buscando sin especificar título:\n",
      "No se especificó ningún título para buscar.\n"
     ]
    }
   ],
   "source": [
    "libreria = [\n",
    "    {\n",
    "        \"titulo\": \"The Crystal Shard\",\n",
    "        \"autor\": \"R.A. Salvatore\",\n",
    "        \"idioma original\": \"esperanto\",\n",
    "        \"año de publicación\": 1988\n",
    "    },\n",
    "    {\n",
    "        \"titulo\": \"Streams of Silver\",\n",
    "        \"autor\": \"R.A. Salvatore\",\n",
    "        \"idioma original\": \"esperanto\",\n",
    "        \"año de publicación\": 1989\n",
    "    },\n",
    "    {\n",
    "        \"titulo\": \"The Halfling's Gem\",\n",
    "        \"autor\": \"R.A. Salvatore\",\n",
    "        \"idioma original\": \"esperanto\",\n",
    "        \"año de publicación\": 1990\n",
    "    },\n",
    "    {\n",
    "        \"titulo\": \"Homeland\",\n",
    "        \"autor\": \"R.A. Salvatore\",\n",
    "        \"idioma original\": \"esperanto\",\n",
    "        \"año de publicación\": 1990\n",
    "    }\n",
    "]\n",
    "\n",
    "def buscar_libro(libreria, titulo=\"ninguno\"):\n",
    "    if titulo == \"ninguno\":\n",
    "        print(\"No se especificó ningún título para buscar.\")\n",
    "        return\n",
    "        \n",
    "    encontrados = [libro for libro in libreria if libro[\"titulo\"].lower() == titulo.lower()]\n",
    "    \n",
    "    if encontrados:\n",
    "        print(\"Libros encontrados:\")\n",
    "        for libro in encontrados:\n",
    "            print(libro)\n",
    "    else:\n",
    "        print(\"Ese no lo tengo, ¿mola?\")\n",
    "\n",
    "print(\"Buscando 'The Crystal Shard':\")\n",
    "buscar_libro(libreria, titulo=\"The Crystal Shard\")\n",
    "\n",
    "print(\"\\nBuscando 'El Hobbit':\")\n",
    "buscar_libro(libreria, titulo=\"El Hobbit\")\n",
    "\n",
    "print(\"\\nBuscando sin especificar título:\")\n",
    "buscar_libro(libreria)\n"
   ]
  },
  {
   "cell_type": "markdown",
   "metadata": {
    "id": "FtJir95QRWxK"
   },
   "source": [
    "## Ejercicio 12\n",
    "Solicitar al usuario que ingrese su dirección email. Imprimir un mensaje indicando si la dirección es válida o no, valiéndose de una función para decidirlo. Una dirección se considerará válida si contiene el símbolo \"@\"."
   ]
  },
  {
   "cell_type": "code",
   "execution_count": 26,
   "metadata": {
    "id": "sk852IZ8RWxK"
   },
   "outputs": [
    {
     "name": "stdin",
     "output_type": "stream",
     "text": [
      "Ingresa tu dirección email:  alejandro.b.s.72@gmail.com\n"
     ]
    },
    {
     "name": "stdout",
     "output_type": "stream",
     "text": [
      "La dirección de email es válida.\n"
     ]
    }
   ],
   "source": [
    "def es_email_valido(email):\n",
    "    return \"@\" in email\n",
    "\n",
    "email_usuario = input(\"Ingresa tu dirección email: \")\n",
    "\n",
    "if es_email_valido(email_usuario):\n",
    "    print(\"La dirección de email es válida.\")\n",
    "else:\n",
    "    print(\"La dirección de email no es válida.\")\n"
   ]
  },
  {
   "cell_type": "markdown",
   "metadata": {
    "id": "Kw1MWBwBRWxK"
   },
   "source": [
    "## Ejercicio 13\n",
    "Escribe una función que compruebe si un DNI es válido, devolviendo `True` en caso afirmativo.  \n",
    "En primer lugar, el DNI debe tener entre 7 y 8 dígitos numéricos.  \n",
    "Para saber si la letra del DNI es correcta puedes utilizar el siguiente fragmento de código:\n",
    ">```Python\n",
    ">DNI= 55555555\n",
    ">palabra='TRWAGMYFPDXBNJZSQVHLCKE'\n",
    ">print('La letra del DNI es: ', palabra[DNI%23])\n",
    ">````\n"
   ]
  },
  {
   "cell_type": "code",
   "execution_count": 31,
   "metadata": {
    "id": "F5Z9rSHqRWxK"
   },
   "outputs": [
    {
     "name": "stdout",
     "output_type": "stream",
     "text": [
      "DNI: 55555555L válido? False\n",
      "DNI: 1234567A válido? False\n",
      "DNI: 44885436Q válido? True\n"
     ]
    }
   ],
   "source": [
    "def es_dni_valido(dni):\n",
    "    \n",
    "    dni = dni.strip()  \n",
    "\n",
    "    if len(dni) not in (8, 9):\n",
    "        return False\n",
    "    \n",
    "    numero_part = dni[:-1]\n",
    "    letra_proporcionada = dni[-1]\n",
    "    \n",
    "    if not numero_part.isdigit() or len(numero_part) not in (7, 8):\n",
    "        return False\n",
    "\n",
    "    numero = int(numero_part)\n",
    "    palabra = 'TRWAGMYFPDXBNJZSQVHLCKE'\n",
    "    letra_esperada = palabra[numero % 23]\n",
    "\n",
    "    return letra_esperada.upper() == letra_proporcionada.upper()\n",
    "\n",
    "dni1 = \"55555555L\"  \n",
    "dni2 = \"1234567A\"   \n",
    "dni3 = \"44885436Q\"\n",
    "\n",
    "print(\"DNI:\", dni1, \"válido?\", es_dni_valido(dni1))\n",
    "print(\"DNI:\", dni2, \"válido?\", es_dni_valido(dni2))\n",
    "print(\"DNI:\", dni3, \"válido?\", es_dni_valido(dni3))"
   ]
  },
  {
   "cell_type": "code",
   "execution_count": null,
   "metadata": {},
   "outputs": [],
   "source": []
  }
 ],
 "metadata": {
  "colab": {
   "provenance": []
  },
  "kernelspec": {
   "display_name": "Python 3 (ipykernel)",
   "language": "python",
   "name": "python3"
  },
  "language_info": {
   "codemirror_mode": {
    "name": "ipython",
    "version": 3
   },
   "file_extension": ".py",
   "mimetype": "text/x-python",
   "name": "python",
   "nbconvert_exporter": "python",
   "pygments_lexer": "ipython3",
   "version": "3.13.2"
  }
 },
 "nbformat": 4,
 "nbformat_minor": 4
}
