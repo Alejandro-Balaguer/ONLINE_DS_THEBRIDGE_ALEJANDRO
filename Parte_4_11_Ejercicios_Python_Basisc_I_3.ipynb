{
 "cells": [
  {
   "cell_type": "markdown",
   "metadata": {
    "id": "ipNETMsDcRLj"
   },
   "source": [
    "![TheBridge_logo_RGB_color.jpg](attachment:TheBridge_logo_RGB_color.jpg)"
   ]
  },
  {
   "cell_type": "markdown",
   "metadata": {
    "id": "dMej7_WccRLm"
   },
   "source": [
    "![imagen](./img/ejercicios.png)"
   ]
  },
  {
   "cell_type": "markdown",
   "metadata": {
    "id": "AST1R3EocRLm"
   },
   "source": [
    "## EJERCICIOS PYTHON BASICO 3:\n",
    "## Operaciones matemáticas, comparación y booleanas"
   ]
  },
  {
   "cell_type": "markdown",
   "metadata": {
    "id": "RGk7ODlgcRLn"
   },
   "source": [
    "Completa los siguiente ejercicios, la solución completa a los mismos se publicarán en el repo del curso a lo largo del sprint. En algunos ejercicios se muestra la solución final, para que puedas comprobar que lo has hecho bien, pero lo importante es el código que generes. ¡Vaaamos, a ello...!"
   ]
  },
  {
   "cell_type": "markdown",
   "metadata": {
    "id": "0X_pqQUGcRLo"
   },
   "source": [
    "![ejercicio.png](./img/ejercicio.png)\n",
    "\n",
    "\n",
    "## Ejercicio 1\n",
    "Tenemos las siguientes variables:\n",
    "\n",
    "```Python\n",
    "A = 4\n",
    "B = \"Text\"\n",
    "C = 4.1\n",
    "```\n",
    "\n",
    "Comprueba:\n",
    "1. Si A y B son equivalentes\n",
    "2. Si A y C NO son equivalentes\n",
    "3. Si A es mayor que C\n",
    "4. Si C es menor o igual que A\n",
    "5. Si B NO es equivalente a C"
   ]
  },
  {
   "cell_type": "code",
   "execution_count": 6,
   "metadata": {
    "id": "WobXtjmBcRLo",
    "outputId": "36d04885-9052-4d3a-a2ea-aca276645870"
   },
   "outputs": [
    {
     "name": "stdout",
     "output_type": "stream",
     "text": [
      "False\n",
      "True\n",
      "False\n",
      "False\n",
      "True\n"
     ]
    }
   ],
   "source": [
    "A = 4\n",
    "B = \"Text\"\n",
    "C = 4.1\n",
    "\n",
    "print(A == B)\n",
    "print(A != C)\n",
    "print(A > C)  \n",
    "print(C <= A)\n",
    "print(B != C)"
   ]
  },
  {
   "cell_type": "markdown",
   "metadata": {
    "id": "N9lIadngcRLp"
   },
   "source": [
    "![ejercicio.png](./img/ejercicio.png)\n",
    "\n",
    "## Ejercicio 2\n",
    "Crea un programa donde se recojan dos inputs del usuario, y el output del programa sea si esos inputs son iguales o no"
   ]
  },
  {
   "cell_type": "code",
   "execution_count": 14,
   "metadata": {
    "id": "LpppKgVXcRLp"
   },
   "outputs": [
    {
     "name": "stdin",
     "output_type": "stream",
     "text": [
      "Introduce el primer valor:  5\n",
      "Introduce el segundo valor:  5\n"
     ]
    },
    {
     "name": "stdout",
     "output_type": "stream",
     "text": [
      "Los valores son iguales\n"
     ]
    }
   ],
   "source": [
    "input1 = input(\"Introduce el primer valor: \")\n",
    "input2 = input(\"Introduce el segundo valor: \")\n",
    "\n",
    "if input1 == input2:\n",
    "    print(\"Los valores son iguales\")\n",
    "else:\n",
    "    print(\"Los valores no son iguales\")"
   ]
  },
  {
   "cell_type": "markdown",
   "metadata": {
    "id": "aSsYd9i4cRLq"
   },
   "source": [
    "![ejercicio.png](./img/ejercicio.png)\n",
    "\n",
    "## Ejercicio 3\n",
    "Mismo programa que en 2, pero en esta ocasión tienen que ser tres inputs y dos salidas. Una de las salidas que nos indique si todos son iguales, y la otra si al menos dos inputs sí que lo son"
   ]
  },
  {
   "cell_type": "code",
   "execution_count": null,
   "metadata": {
    "id": "D668FiMTcRLq",
    "outputId": "0463f30e-a339-4dcb-f013-e13a73868f70"
   },
   "outputs": [
    {
     "name": "stdout",
     "output_type": "stream",
     "text": [
      "Todos son iguales: False\n",
      "Todos son iguales: False\n"
     ]
    }
   ],
   "source": []
  },
  {
   "cell_type": "code",
   "execution_count": 17,
   "metadata": {},
   "outputs": [
    {
     "name": "stdin",
     "output_type": "stream",
     "text": [
      "Introduce el primer valor:  5\n",
      "Introduce el segundo valor:  98\n",
      "introduce el tercer valor:  7\n"
     ]
    },
    {
     "name": "stdout",
     "output_type": "stream",
     "text": [
      "Los valores no son iguales\n",
      "No hay valores iguales\n"
     ]
    }
   ],
   "source": [
    "input1 = input(\"Introduce el primer valor: \")\n",
    "input2 = input(\"Introduce el segundo valor: \")\n",
    "input3 = input(\"introduce el tercer valor: \")\n",
    "\n",
    "if input1 == input2 == input3:\n",
    "    print(\"Los valores son iguales\")\n",
    "else:\n",
    "    print(\"Los valores no son iguales\")\n",
    "\n",
    "if input1 == input2 or input1 == input3 or input2 == input3:\n",
    "    print(\"Almenos dos valores son iguales\")\n",
    "else:\n",
    "    print(\"No hay valores iguales\")"
   ]
  },
  {
   "cell_type": "markdown",
   "metadata": {
    "id": "J9gwuBOMcRLq"
   },
   "source": [
    "![ejercicio.png](./img/ejercicio.png)\n",
    "\n",
    "## Ejercicio 4\n",
    "Razona sin ejecutar código el output que obtendremos de las siguientes sentencias\n",
    "1. True and True and False\n",
    "2. not ((True or False) and (True or False))\n",
    "3. (False or False or False or True) and False\n",
    "4. not False and True and not True"
   ]
  },
  {
   "cell_type": "markdown",
   "metadata": {
    "id": "wABMrj7pcRLr"
   },
   "source": [
    "1 - Para que el resultado de una operación \"and\" se \"True\". todos los operadores deben der \"True\". Como hay un \"False\" en la operación, el resultado sera \"False\"\n",
    "\n",
    "2 - Priemero resulvemos las operaciones que hay entre parentesis. \"or\" devulve \"True\" si al menos uno de los operadores es \"True\", por lo tanto el resultado de los dos parentesis sera \"True\". Ahora tenemos \"True and True\" y como la \"and\" devuelve \"True\" si ambos son \"True\", devulver \"True\". Finalmente aplicamos \"not\" al resultado, es operadir invierte el valor logico, por lo tanto el resultado final es \"False\"\n",
    "\n",
    "3 - Empezamos con la operacin que hay entre parentesis, como \"or\" devulve \"True si al menos uno es \"True\", el resultado final sera \"True\". POr ultimo resolvemos el \"and\" y como los dos operandos no son \"True\", el resultado final sera \"False\"\n",
    "\n",
    "4- \"not False\" es \"True\" al invertir el valor logico y \"not True\" es \"False\" por lo que ahora tenemos \"True and True and False\" y como en \"and\" todos tiene que ser \"True\" para dar \"True\", el resultado final es \"False\" "
   ]
  }
 ],
 "metadata": {
  "colab": {
   "provenance": []
  },
  "kernelspec": {
   "display_name": "Python 3 (ipykernel)",
   "language": "python",
   "name": "python3"
  },
  "language_info": {
   "codemirror_mode": {
    "name": "ipython",
    "version": 3
   },
   "file_extension": ".py",
   "mimetype": "text/x-python",
   "name": "python",
   "nbconvert_exporter": "python",
   "pygments_lexer": "ipython3",
   "version": "3.13.2"
  }
 },
 "nbformat": 4,
 "nbformat_minor": 4
}
