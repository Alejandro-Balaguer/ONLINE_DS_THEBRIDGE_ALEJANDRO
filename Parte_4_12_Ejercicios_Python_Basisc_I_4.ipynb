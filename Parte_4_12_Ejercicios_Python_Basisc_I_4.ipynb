{
 "cells": [
  {
   "cell_type": "markdown",
   "metadata": {
    "id": "EzTtROAecR01"
   },
   "source": [
    "![TheBridge_logo_RGB_color.jpg](attachment:TheBridge_logo_RGB_color.jpg)"
   ]
  },
  {
   "cell_type": "markdown",
   "metadata": {
    "id": "jqk2A3j1cR05"
   },
   "source": [
    "![imagen](./img/ejercicios.png)"
   ]
  },
  {
   "cell_type": "markdown",
   "metadata": {
    "id": "JDDoAhsScR05"
   },
   "source": [
    "## EJERCICIOS PYTHON BASICO 4:\n",
    "## Funciones, métodos, listas"
   ]
  },
  {
   "cell_type": "markdown",
   "metadata": {
    "id": "84l7tDcQcR06"
   },
   "source": [
    "Completa los siguiente ejercicios, la solución completa a los mismos se publicarán en el repo del curso a lo largo del sprint. En algunos ejercicios se muestra la solución final, para que puedas comprobar que lo has hecho bien, pero lo importante es el código que generes. ¡Vaaamos, a ello...!"
   ]
  },
  {
   "cell_type": "markdown",
   "metadata": {
    "id": "tMT72091cR06"
   },
   "source": [
    "![ejercicio.png](./img/ejercicio.png)\n",
    "\n",
    "## Ejercicio 1\n",
    "Para este ejercicio vamos a poner en práctica [las funciones built in](https://docs.python.org/3/library/functions.html).\n",
    "\n",
    "1. Calcula el máximo de la lista: [4, 6, 8, -1]\n",
    "2. Suma todos los elementos de la lista anterior\n",
    "3. Redondea este float a 3 dígitos decimales: 63.451256965\n",
    "4. Valor absoluto de: -74"
   ]
  },
  {
   "cell_type": "code",
   "execution_count": 4,
   "metadata": {
    "id": "Tbz_7MjncR07"
   },
   "outputs": [
    {
     "name": "stdout",
     "output_type": "stream",
     "text": [
      "El maximo es: 8\n",
      "La suma de todos los elementos es: 17\n",
      "El numero redondeado es: 63.451\n",
      "El valor absoluto es: 74\n"
     ]
    }
   ],
   "source": [
    "lista = [4, 6, 8, -1]\n",
    "\n",
    "maximo = max(lista)\n",
    "print(\"El maximo es:\", maximo)\n",
    "\n",
    "suma = sum(lista)\n",
    "print(\"La suma de todos los elementos es:\", suma)\n",
    "\n",
    "numero = 63.451256965\n",
    "redondeado = round(numero, 3)\n",
    "print(\"El numero redondeado es:\", redondeado)\n",
    "\n",
    "valor_absoluto = abs(-74)\n",
    "print(\"El valor absoluto es:\", valor_absoluto)"
   ]
  },
  {
   "cell_type": "markdown",
   "metadata": {
    "id": "s5rNcdxLcR07"
   },
   "source": [
    "![ejercicio.png](./img/ejercicio.png)\n",
    "\n",
    "## Ejercicio 2\n",
    "Para el siguiente string se pide imprimir por pantalla los siguientes casos\n",
    "\n",
    "    \"En un lugar de la Mancha, de cuyo nombre no quiero acordarme.\"\n",
    "\n",
    "1. Pásalo todo a mayúsculas\n",
    "2. Pásalo todo a minúsculas\n",
    "3. Solo la primera letra de cada palabra en mayúscula, el resto en minúscula\n",
    "4. Crea una lista dividiéndolo por sus espacios\n",
    "5. Sustituye las comas `,` por puntos y comas `;`\n",
    "6. Elimina las `a` minúsculas"
   ]
  },
  {
   "cell_type": "code",
   "execution_count": null,
   "metadata": {
    "id": "sYB-67pxcR09",
    "outputId": "66007c09-ad3b-42ee-fa47-d348b6cf10fe"
   },
   "outputs": [
    {
     "name": "stdout",
     "output_type": "stream",
     "text": [
      "EN UN LUGAR DE LA MANCHA, DE CUYO NOMBRE NO QUIERO ACORDARME.\n",
      "en un lugar de la mancha, de cuyo nombre no quiero acordarme.\n",
      "En Un Lugar De La Mancha, De Cuyo Nombre No Quiero Acordarme.\n",
      "['En', 'un', 'lugar', 'de', 'la', 'Mancha,', 'de', 'cuyo', 'nombre', 'no', 'quiero', 'acordarme.']\n",
      "En un lugar de la Mancha; de cuyo nombre no quiero acordarme.\n",
      "En un lugr de l Mnch, de cuyo nombre no quiero cordrme.\n"
     ]
    }
   ],
   "source": []
  },
  {
   "cell_type": "code",
   "execution_count": 14,
   "metadata": {},
   "outputs": [
    {
     "name": "stdout",
     "output_type": "stream",
     "text": [
      "EN UN LUGAR DE LA MANCHA, DE CUYO NOMBRE NO QUIERO ACORDARME\n",
      "en un lugar de la mancha, de cuyo nombre no quiero acordarme\n",
      "En Un Lugar De La Mancha, De Cuyo Nombre No Quiero Acordarme\n",
      "['En', 'un', 'lugar', 'de', 'la', 'Mancha,', 'de', 'cuyo', 'nombre', 'no', 'quiero', 'acordarme']\n",
      "En un lugar de la Mancha. de cuyo nombre no quiero acordarme\n",
      "En un lugr de l Mnch, de cuyo nombre no quiero cordrme\n"
     ]
    }
   ],
   "source": [
    "texto = \"En un lugar de la Mancha, de cuyo nombre no quiero acordarme\"\n",
    "\n",
    "texto_mayusculas = texto.upper()\n",
    "print(texto_mayusculas)\n",
    "\n",
    "texto_minusculas = texto.lower()\n",
    "print(texto_minusculas)\n",
    "\n",
    "texto_titulo = texto.title()\n",
    "print(texto_titulo)\n",
    "\n",
    "lista_palabras = texto.split()\n",
    "print(lista_palabras)\n",
    "\n",
    "signos_reemplazados = texto.replace(\",\",\".\")\n",
    "print(signos_reemplazados)\n",
    "\n",
    "texto_sin_a = texto.replace(\"a\",\"\")\n",
    "print(texto_sin_a)\n"
   ]
  },
  {
   "cell_type": "markdown",
   "metadata": {
    "id": "jKqDJNxVcR0-"
   },
   "source": [
    "![ejercicio.png](./img/ejercicio.png)\n",
    "\n",
    "## Ejercicio 3\n",
    "1. Crea una lista con 3 elementos numéricos\n",
    "2. Añade un cuarto elemento\n",
    "3. Calcula la suma de todos\n",
    "4. Elimina el segundo elemento de la lista\n",
    "5. Añade otro elemento en la posicion 3 de la lista\n",
    "6. Crea otra lista con 4 elementos y concaténala a la que ya tenías.\n",
    "7. Ordena la lista de menor a mayor.\n",
    "8. BONUS: Ordena la lista de mayor a menor.  \n",
    "(*PISTA: Para hacer 8, tendrás que buscar en la información del método...*)  \n",
    "  \n",
    "  \n",
    "NOTA: Pinta por pantalla el resultado de cada paso."
   ]
  },
  {
   "cell_type": "code",
   "execution_count": null,
   "metadata": {
    "id": "2hb7HeuicR0-",
    "outputId": "6a045122-eeb9-4e10-80eb-738e639c25c0"
   },
   "outputs": [
    {
     "name": "stdout",
     "output_type": "stream",
     "text": [
      "10\n",
      "[2, 3, 4]\n",
      "[2, 3, 5, 4]\n",
      "[2, 3, 5, 4, 6, 7, 8, 9]\n"
     ]
    }
   ],
   "source": []
  },
  {
   "cell_type": "code",
   "execution_count": 15,
   "metadata": {},
   "outputs": [
    {
     "name": "stdout",
     "output_type": "stream",
     "text": [
      "Lista numerica: [5, 7, 12]\n"
     ]
    }
   ],
   "source": [
    "lista = [5,7,12]\n",
    "print(\"Lista numerica:\", lista)"
   ]
  },
  {
   "cell_type": "code",
   "execution_count": 16,
   "metadata": {},
   "outputs": [
    {
     "name": "stdout",
     "output_type": "stream",
     "text": [
      "Lista con cuatro elementos [5, 7, 12, 2]\n"
     ]
    }
   ],
   "source": [
    "lista.append(2)\n",
    "print(\"Lista con cuatro elementos\", lista)"
   ]
  },
  {
   "cell_type": "code",
   "execution_count": 17,
   "metadata": {},
   "outputs": [
    {
     "name": "stdout",
     "output_type": "stream",
     "text": [
      "La suma de la lista es: 26\n"
     ]
    }
   ],
   "source": [
    "suma =sum(lista)\n",
    "print(\"La suma de la lista es:\", suma)"
   ]
  },
  {
   "cell_type": "code",
   "execution_count": 18,
   "metadata": {},
   "outputs": [
    {
     "name": "stdout",
     "output_type": "stream",
     "text": [
      "Lista despues de eliminar el sgundo elemento: [5, 12, 2]\n"
     ]
    }
   ],
   "source": [
    "lista.pop(1)\n",
    "print(\"Lista despues de eliminar el sgundo elemento:\",lista)"
   ]
  },
  {
   "cell_type": "code",
   "execution_count": 19,
   "metadata": {},
   "outputs": [
    {
     "name": "stdout",
     "output_type": "stream",
     "text": [
      "La lista con un nuevo elemento en la posicion tres: [5, 12, 2, 45]\n"
     ]
    }
   ],
   "source": [
    "lista.insert(3, 45)\n",
    "print(\"La lista con un nuevo elemento en la posicion tres:\", lista)"
   ]
  },
  {
   "cell_type": "code",
   "execution_count": 20,
   "metadata": {},
   "outputs": [
    {
     "name": "stdout",
     "output_type": "stream",
     "text": [
      "Las doslistas concatenadas: [5, 12, 2, 45, 7, 23, 14, 99]\n"
     ]
    }
   ],
   "source": [
    "lista2 = [7,23,14,99]\n",
    "lista.extend(lista2)\n",
    "print(\"Las doslistas concatenadas:\", lista)"
   ]
  },
  {
   "cell_type": "code",
   "execution_count": 21,
   "metadata": {},
   "outputs": [
    {
     "name": "stdout",
     "output_type": "stream",
     "text": [
      "La lIsta ordenada de menor a mayor: [2, 5, 7, 12, 14, 23, 45, 99]\n"
     ]
    }
   ],
   "source": [
    "lista.sort()\n",
    "print(\"La lIsta ordenada de menor a mayor:\", lista)"
   ]
  },
  {
   "cell_type": "code",
   "execution_count": 22,
   "metadata": {},
   "outputs": [
    {
     "name": "stdout",
     "output_type": "stream",
     "text": [
      "La lista ordenada de mayor a menor: [99, 45, 23, 14, 12, 7, 5, 2]\n"
     ]
    }
   ],
   "source": [
    "lista.sort(reverse=True)\n",
    "print(\"La lista ordenada de mayor a menor:\", lista)"
   ]
  },
  {
   "cell_type": "code",
   "execution_count": null,
   "metadata": {},
   "outputs": [],
   "source": []
  }
 ],
 "metadata": {
  "colab": {
   "provenance": []
  },
  "kernelspec": {
   "display_name": "Python 3 (ipykernel)",
   "language": "python",
   "name": "python3"
  },
  "language_info": {
   "codemirror_mode": {
    "name": "ipython",
    "version": 3
   },
   "file_extension": ".py",
   "mimetype": "text/x-python",
   "name": "python",
   "nbconvert_exporter": "python",
   "pygments_lexer": "ipython3",
   "version": "3.13.2"
  }
 },
 "nbformat": 4,
 "nbformat_minor": 4
}
