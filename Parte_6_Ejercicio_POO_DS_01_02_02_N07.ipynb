{
 "cells": [
  {
   "cell_type": "markdown",
   "metadata": {
    "id": "vigJnuAMSU4x"
   },
   "source": [
    "![TheBridge_logo_RGB_color.jpg](attachment:TheBridge_logo_RGB_color.jpg)"
   ]
  },
  {
   "cell_type": "markdown",
   "metadata": {
    "id": "2xmnwM17SU4y"
   },
   "source": [
    "![ejercicios.png](attachment:ejercicios.png)"
   ]
  },
  {
   "cell_type": "markdown",
   "metadata": {
    "id": "liorA-1ZSU4y"
   },
   "source": [
    "# Ejercicios Clases y Objetos"
   ]
  },
  {
   "cell_type": "markdown",
   "metadata": {
    "id": "5xXUz5l9SU4z"
   },
   "source": [
    "## Ejercicio 1\n",
    "Somos una empresa que tiene varias tiendas de electrodomesticos. Necesitamos un programa para manejar las tiendas, ver las ventas que han tenido, cuántos empleados hay, etc... Para ello vamos a modelizar la tienda en una clase, que tendrá las siguientes características:\n",
    "* Nombre clase: \"Tienda\"\n",
    "* Atributos comunes:\n",
    "    * Tipo: \"Electrodomésticos\"\n",
    "    * Abierta: True\n",
    "* Atributos propios de cada tienda:\n",
    "    * Nombre - String\n",
    "    * Dirección - String\n",
    "    * Número de empleados - int\n",
    "    * Ventas ultimos 3 meses - Lista de 3 numeros\n",
    "* Método para calcular las ventas de todos los meses, que devuelva un numero con todas las ventas.\n",
    "* Método que calcula la media de ventas de los ultimos meses, por empleado\n",
    "* Método que devuelve en un string el nombre de la tienda, junto con su dirección.\n",
    "* Método que obtiene las ventas del último mes.\n",
    "* Método para dar una proyección de las ventas en caso de haber invertido X dinero en marketing en esa tienda. Siendo X el parámetro de entrada. Si X es menor de 1000, las ventas de los ultimos 3 meses hubiesen sido de (1.2 x ventas), si es mayor o igual de 1000, las ventas hubiesen sido de (1.5 x venta). El método reescribe el atributo de ventas en los últimos 3 meses, y además devuelve las ventas con el aumento.\n",
    "\n",
    "Se pide:\n",
    "1. Implementar la clase \"Tienda\"\n",
    "2. Crear tres tiendas con datos inventados\n",
    "3. Comprueba en al menos una de ellas, todo lo implementado en la clase tienda (sus atributos, media de ventas, ventas/empleado...)\n",
    "3. Calcular las ventas del último mes de todas las tiendas. Para ello usa el bucle `for`\n",
    "4. Imprime por pantalla los nombres de las tiendas cuya dirección lleve el string \"Avenida\"\n",
    "5. Seguro que ya has hecho este apartado... Documenta la clase :)"
   ]
  },
  {
   "cell_type": "code",
   "execution_count": 1,
   "metadata": {
    "id": "5cLQcLxfSU4z"
   },
   "outputs": [],
   "source": [
    "class Tienda:\n",
    "    # Atributos comunes de la clase\n",
    "    tipo = \"Electrodomésticos\"\n",
    "    abierta = True\n",
    "\n",
    "    def __init__(self, nombre, direccion, numero_empleados, ventas_ultimos_3_meses):\n",
    "        \"\"\"\n",
    "        Inicializa una instancia de Tienda.\n",
    "\n",
    "        Parámetros:\n",
    "        - nombre: str, nombre de la tienda.\n",
    "        - direccion: str, dirección de la tienda.\n",
    "        - numero_empleados: int, cantidad de empleados.\n",
    "        - ventas_ultimos_3_meses: list de 3 números representando las ventas de cada mes.\n",
    "        \"\"\"\n",
    "        self.nombre = nombre\n",
    "        self.direccion = direccion\n",
    "        self.numero_empleados = numero_empleados\n",
    "        self.ventas_ultimos_3_meses = ventas_ultimos_3_meses\n",
    "\n",
    "    def ventas_totales(self):\n",
    "        \"\"\"\n",
    "        Calcula la suma de las ventas de los últimos 3 meses.\n",
    "        \"\"\"\n",
    "        return sum(self.ventas_ultimos_3_meses)\n",
    "\n",
    "    def media_ventas_por_empleado(self):\n",
    "        \"\"\"\n",
    "        Calcula la media de ventas de los últimos 3 meses dividida por el número de empleados.\n",
    "        \"\"\"\n",
    "        if self.numero_empleados == 0:\n",
    "            return 0  # Evitamos división por cero.\n",
    "        return self.ventas_totales() / self.numero_empleados\n",
    "\n",
    "    def info_tienda(self):\n",
    "        \"\"\"\n",
    "        Devuelve un string con el nombre de la tienda y su dirección.\n",
    "        \"\"\"\n",
    "        return f\"{self.nombre}, ubicada en {self.direccion}\"\n",
    "\n",
    "    def ventas_ultimo_mes(self):\n",
    "        \"\"\"\n",
    "        Retorna las ventas del último mes (último elemento de la lista).\n",
    "        \"\"\"\n",
    "        return self.ventas_ultimos_3_meses[-1]\n",
    "\n",
    "    def proyectar_ventas(self, inversion_marketing):\n",
    "        \"\"\"\n",
    "        Proyecta las ventas de los últimos 3 meses en función de la inversión en marketing.\n",
    "\n",
    "        Parámetros:\n",
    "        - inversion_marketing: cantidad invertida en marketing.\n",
    "\n",
    "        Si la inversión es menor de 1000, se incrementan las ventas en un 20% (multiplicador 1.2).\n",
    "        Si es mayor o igual a 1000, se incrementan en un 50% (multiplicador 1.5).\n",
    "\n",
    "        Este método reescribe el atributo 'ventas_ultimos_3_meses' con los nuevos valores y los devuelve.\n",
    "        \"\"\"\n",
    "        if inversion_marketing < 1000:\n",
    "            factor = 1.2\n",
    "        else:\n",
    "            factor = 1.5\n",
    "\n",
    "        self.ventas_ultimos_3_meses = [venta * factor for venta in self.ventas_ultimos_3_meses]\n",
    "        return self.ventas_ultimos_3_meses"
   ]
  },
  {
   "cell_type": "code",
   "execution_count": 2,
   "metadata": {},
   "outputs": [
    {
     "name": "stdout",
     "output_type": "stream",
     "text": [
      "----- Comprobación de funcionalidades en tienda1 -----\n",
      "Información de la tienda: ElectroHogar, ubicada en Avenida Siempre Viva 123\n",
      "Ventas totales: 7500\n",
      "Media de ventas por empleado: 750.0\n",
      "Ventas del último mes: 3000\n",
      "Ventas proyectadas (inversión de 800): [2400.0, 3000.0, 3600.0]\n",
      "\n",
      "----- Ventas del último mes de todas las tiendas -----\n",
      "ElectroHogar: 3600.0\n",
      "HomeElectro: 1700\n",
      "TecnoStore: 3100\n",
      "\n",
      "----- Tiendas cuya dirección contiene 'Avenida' -----\n",
      "ElectroHogar\n",
      "TecnoStore\n"
     ]
    }
   ],
   "source": [
    "if __name__ == \"__main__\":\n",
    "    # Crear tres tiendas con datos inventados\n",
    "    tienda1 = Tienda(\"ElectroHogar\", \"Avenida Siempre Viva 123\", 10, [2000, 2500, 3000])\n",
    "    tienda2 = Tienda(\"HomeElectro\", \"Calle Falsa 456\", 8, [1500, 1600, 1700])\n",
    "    tienda3 = Tienda(\"TecnoStore\", \"Avenida del Libertador 789\", 12, [3000, 3200, 3100])\n",
    "    \n",
    "    # Comprobar en al menos una de ellas todas las funcionalidades implementadas:\n",
    "    print(\"----- Comprobación de funcionalidades en tienda1 -----\")\n",
    "    print(\"Información de la tienda:\", tienda1.info_tienda())\n",
    "    print(\"Ventas totales:\", tienda1.ventas_totales())\n",
    "    print(\"Media de ventas por empleado:\", tienda1.media_ventas_por_empleado())\n",
    "    print(\"Ventas del último mes:\", tienda1.ventas_ultimo_mes())\n",
    "    print(\"Ventas proyectadas (inversión de 800):\", tienda1.proyectar_ventas(800))\n",
    "    \n",
    "    # Calcular y mostrar las ventas del último mes de todas las tiendas usando un bucle for\n",
    "    tiendas = [tienda1, tienda2, tienda3]\n",
    "    print(\"\\n----- Ventas del último mes de todas las tiendas -----\")\n",
    "    for tienda in tiendas:\n",
    "        print(f\"{tienda.nombre}: {tienda.ventas_ultimo_mes()}\")\n",
    "    \n",
    "    # Imprimir por pantalla los nombres de las tiendas cuya dirección contiene el string \"Avenida\"\n",
    "    print(\"\\n----- Tiendas cuya dirección contiene 'Avenida' -----\")\n",
    "    for tienda in tiendas:\n",
    "        if \"Avenida\" in tienda.direccion:\n",
    "            print(tienda.nombre)"
   ]
  },
  {
   "cell_type": "markdown",
   "metadata": {
    "id": "WEBq7EpsSU40"
   },
   "source": [
    "## Ejercicio 2\n",
    "En este ejercicio vamos a implementar una clase *Perro* en Python. La clase tiene las siguientes características:\n",
    "* Cosas que sabemos seguro que tiene un perro\n",
    "    * Tiene 4 patas\n",
    "    * 2 orejas\n",
    "    * 2 ojos\n",
    "    * Una velocidad de 0. Por defecto, el perro está parado\n",
    "* Cuando se inicialice:\n",
    "    * El perro será de una determinada raza\n",
    "    * Por defecto tendrá pelo \"Marrón\", a no ser que se diga lo contrario.\n",
    "    * Por defecto no tendrá dueño, a no ser que se diga lo contrario.\n",
    "    \n",
    "* Dispondrá también de un método llamado andar, que tiene un argumento de entrada (aumento_velocidad). Este valor se le sumará a la velocidad que ya llevaba el perro.\n",
    "* Necesita otro método (parar), donde pondremos la velocidad a 0.\n",
    "* Otro método llamado \"ladrar\", que tendrá un argumento de entrada, y la salida será el siguiente string: \"GUAU!\" + el argumento de entrada.\n",
    "\n",
    "\n",
    "Se pide:\n",
    "* Implementa la clase *Perro*\n",
    "* Crea un objeto de tipo *Perro*, sin dueño\n",
    "* Comprueba que están bien todos sus atributos\n",
    "* Prueba que ande, y comprueba su velocidad\n",
    "* Páralo\n",
    "* Documenta la clase *Perro*"
   ]
  },
  {
   "cell_type": "code",
   "execution_count": 3,
   "metadata": {
    "id": "DpEWvbwGSU40"
   },
   "outputs": [],
   "source": [
    "class Perro:\n",
    "    \"\"\"\n",
    "    Clase que representa un perro.\n",
    "\n",
    "    Atributos fijos:\n",
    "        - patas (int): Número de patas, siempre 4.\n",
    "        - orejas (int): Número de orejas, siempre 2.\n",
    "        - ojos (int): Número de ojos, siempre 2.\n",
    "\n",
    "    Atributos de instancia:\n",
    "        - raza (str): La raza del perro.\n",
    "        - pelo (str): Color del pelo. Por defecto es \"Marrón\".\n",
    "        - dueño (str o None): Nombre del dueño. Por defecto es None (sin dueño).\n",
    "        - velocidad (float): Velocidad actual del perro. Inicia en 0, indicando que el perro está parado.\n",
    "    \"\"\"\n",
    "\n",
    "    # Atributos fijos para todos los perros\n",
    "    patas = 4\n",
    "    orejas = 2\n",
    "    ojos = 2\n",
    "\n",
    "    def __init__(self, raza, pelo=\"Marrón\", dueño=None):\n",
    "        \"\"\"\n",
    "        Inicializa una nueva instancia de Perro.\n",
    "\n",
    "        Parámetros:\n",
    "            - raza (str): La raza del perro.\n",
    "            - pelo (str, opcional): Color del pelo. Valor por defecto: \"Marrón\".\n",
    "            - dueño (str, opcional): Nombre del dueño. Valor por defecto: None (sin dueño).\n",
    "        \"\"\"\n",
    "        self.raza = raza\n",
    "        self.pelo = pelo\n",
    "        self.dueño = dueño\n",
    "        self.velocidad = 0.0\n",
    "\n",
    "    def andar(self, aumento_velocidad):\n",
    "        \"\"\"\n",
    "        Incrementa la velocidad del perro.\n",
    "\n",
    "        Parámetros:\n",
    "            - aumento_velocidad (float): Valor a sumar a la velocidad actual.\n",
    "\n",
    "        Retorna:\n",
    "            La nueva velocidad después de incrementar.\n",
    "        \"\"\"\n",
    "        self.velocidad += aumento_velocidad\n",
    "        return self.velocidad\n",
    "\n",
    "    def parar(self):\n",
    "        \"\"\"\n",
    "        Detiene al perro, estableciendo su velocidad a 0.\n",
    "        \"\"\"\n",
    "        self.velocidad = 0.0\n",
    "\n",
    "    def ladrar(self, sonido):\n",
    "        \"\"\"\n",
    "        Retorna el ladrido del perro.\n",
    "\n",
    "        Parámetros:\n",
    "            - sonido (str): Cadena de texto que se añade al ladrido.\n",
    "\n",
    "        Retorna:\n",
    "            Un string formado por \"GUAU!\" concatenado con el argumento recibido.\n",
    "        \"\"\"\n",
    "        return \"GUAU!\" + sonido\n"
   ]
  },
  {
   "cell_type": "code",
   "execution_count": 4,
   "metadata": {},
   "outputs": [
    {
     "name": "stdout",
     "output_type": "stream",
     "text": [
      "----- Atributos del perro -----\n",
      "Patas: 4\n",
      "Orejas: 2\n",
      "Ojos: 2\n",
      "Raza: Labrador\n",
      "Color de pelo: Marrón\n",
      "Dueño: None\n",
      "Velocidad inicial: 0.0\n",
      "\n",
      "----- Probando el método 'andar' -----\n",
      "Velocidad tras andar: 5.0\n",
      "Velocidad después de parar: 0.0\n",
      "\n",
      "----- Probando el método 'ladrar' -----\n",
      "Ladrido: GUAU! ¡que lindo día!\n"
     ]
    }
   ],
   "source": [
    "# Ejemplo de uso de la clase Perro\n",
    "if __name__ == \"__main__\":\n",
    "    # Crear un objeto de tipo Perro sin dueño\n",
    "    perro1 = Perro(raza=\"Labrador\")\n",
    "\n",
    "    # Comprobar que están bien todos sus atributos\n",
    "    print(\"----- Atributos del perro -----\")\n",
    "    print(\"Patas:\", perro1.patas)  # 4\n",
    "    print(\"Orejas:\", perro1.orejas)  # 2\n",
    "    print(\"Ojos:\", perro1.ojos)  # 2\n",
    "    print(\"Raza:\", perro1.raza)\n",
    "    print(\"Color de pelo:\", perro1.pelo)  # Por defecto \"Marrón\"\n",
    "    print(\"Dueño:\", perro1.dueño)  # Por defecto None (sin dueño)\n",
    "    print(\"Velocidad inicial:\", perro1.velocidad)  # 0\n",
    "\n",
    "    # Probar el método andar y comprobar la velocidad\n",
    "    print(\"\\n----- Probando el método 'andar' -----\")\n",
    "    nueva_velocidad = perro1.andar(5)\n",
    "    print(\"Velocidad tras andar:\", nueva_velocidad)\n",
    "\n",
    "    # Parar al perro\n",
    "    perro1.parar()\n",
    "    print(\"Velocidad después de parar:\", perro1.velocidad)\n",
    "\n",
    "    # Probar el método ladrar\n",
    "    print(\"\\n----- Probando el método 'ladrar' -----\")\n",
    "    print(\"Ladrido:\", perro1.ladrar(\" ¡que lindo día!\"))\n"
   ]
  },
  {
   "cell_type": "code",
   "execution_count": null,
   "metadata": {},
   "outputs": [],
   "source": []
  }
 ],
 "metadata": {
  "colab": {
   "provenance": []
  },
  "kernelspec": {
   "display_name": "Python 3 (ipykernel)",
   "language": "python",
   "name": "python3"
  },
  "language_info": {
   "codemirror_mode": {
    "name": "ipython",
    "version": 3
   },
   "file_extension": ".py",
   "mimetype": "text/x-python",
   "name": "python",
   "nbconvert_exporter": "python",
   "pygments_lexer": "ipython3",
   "version": "3.13.2"
  }
 },
 "nbformat": 4,
 "nbformat_minor": 4
}
